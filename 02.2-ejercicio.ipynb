{
 "cells": [
  {
   "cell_type": "code",
   "execution_count": 2,
   "metadata": {},
   "outputs": [
    {
     "name": "stdout",
     "output_type": "stream",
     "text": [
      "l: [93, 78, 78, 84, 5, 3, 12, 95, 63, 79, 84, 53, 39, 47, 25, 75, 89, 38, 20, 50, 6, 9, 77, 37, 89, 97, 89, 61, 15, 36, 21, 24, 1, 91, 45, 66, 27, 8, 43, 0, 28, 43, 51, 53, 26, 48, 29, 86, 2, 65, 58, 16, 88, 41, 63, 83, 39, 78, 97, 34, 2, 6, 85, 94, 46, 30, 95, 9, 1, 36, 2, 27, 46, 5, 40, 19, 10, 88, 92, 91, 53, 86, 24, 1, 88, 98, 11, 81, 96, 29, 29, 75, 66, 83, 57, 84, 5, 67, 35, 30]\n",
      "\n",
      "m: [53, 15, 88, 8, 58, 25, 3, 94, 98, 93, 3, 60, 70, 15, 86, 33, 76, 99, 50, 72, 4, 28, 60, 68, 41, 35, 56, 85, 87, 87, 81, 4, 57, 87, 10, 37, 5, 45, 32, 9, 80, 79, 99, 78, 93, 22, 9, 76, 32, 70, 57, 83, 37, 8, 9, 35, 73, 93, 4, 20, 44, 25, 66, 88, 74, 18, 59, 98, 30, 0, 94, 10, 42, 43, 47, 27, 64, 80, 88, 97, 88, 77, 74, 96, 44, 23, 8, 21, 25, 84, 12, 49, 57, 40, 12, 69, 35, 84, 96, 57]\n",
      "\n",
      "q: [1, 2, 6, 11, 16, 19, 24, 26, 29, 34, 36, 38, 39, 46, 48, 51, 61, 63, 65, 67, 75, 89, 91, 92, 95]\n"
     ]
    }
   ],
   "source": [
    "# Escribir el codigo necesario para generar una lista que contenga\n",
    "# los elementos de l que no están en m\n",
    "\n",
    "import random\n",
    "\n",
    "l = [int(100*random.random()) for i in range(100)] #crea lista lista aleatorios de 1 a 100\n",
    "m = [int(100*random.random()) for i in range(100)]\n",
    "\n",
    "print(\"l:\", l)\n",
    "print()\n",
    "print(\"m:\", m)\n",
    "\n",
    "q = list(set(l)-set(m))\n",
    "print()\n",
    "print(\"q:\", q)\n",
    "# Escribe aquí el código\n",
    "\n",
    "\n",
    "\n"
   ]
  },
  {
   "cell_type": "code",
   "execution_count": 4,
   "metadata": {},
   "outputs": [
    {
     "name": "stdout",
     "output_type": "stream",
     "text": [
      "[0, 1, 1]\n",
      "[0, 1, 1, 2]\n",
      "[0, 1, 1, 2, 3]\n",
      "[0, 1, 1, 2, 3, 5]\n",
      "[0, 1, 1, 2, 3, 5, 8]\n",
      "[0, 1, 1, 2, 3, 5, 8, 13]\n",
      "[0, 1, 1, 2, 3, 5, 8, 13, 21]\n",
      "[0, 1, 1, 2, 3, 5, 8, 13, 21, 34]\n",
      "[0, 1, 1, 2, 3, 5, 8, 13, 21, 34, 55]\n",
      "[0, 1, 1, 2, 3, 5, 8, 13, 21, 34, 55, 89]\n",
      "[0, 1, 1, 2, 3, 5, 8, 13, 21, 34, 55, 89, 144]\n",
      "[0, 1, 1, 2, 3, 5, 8, 13, 21, 34, 55, 89, 144, 233]\n",
      "[0, 1, 1, 2, 3, 5, 8, 13, 21, 34, 55, 89, 144, 233, 377]\n",
      "[0, 1, 1, 2, 3, 5, 8, 13, 21, 34, 55, 89, 144, 233, 377, 610]\n",
      "[0, 1, 1, 2, 3, 5, 8, 13, 21, 34, 55, 89, 144, 233, 377, 610, 987]\n",
      "[0, 1, 1, 2, 3, 5, 8, 13, 21, 34, 55, 89, 144, 233, 377, 610, 987, 1597]\n",
      "[0, 1, 1, 2, 3, 5, 8, 13, 21, 34, 55, 89, 144, 233, 377, 610, 987, 1597, 2584]\n",
      "[0, 1, 1, 2, 3, 5, 8, 13, 21, 34, 55, 89, 144, 233, 377, 610, 987, 1597, 2584, 4181]\n",
      "[0, 1, 1, 2, 3, 5, 8, 13, 21, 34, 55, 89, 144, 233, 377, 610, 987, 1597, 2584, 4181, 6765]\n",
      "[0, 1, 1, 2, 3, 5, 8, 13, 21, 34, 55, 89, 144, 233, 377, 610, 987, 1597, 2584, 4181, 6765]\n"
     ]
    }
   ],
   "source": [
    "# Escribir el código necesario para calcular la sucesión de Fibonacci\n",
    "# para los \"n\" primeros términos, utilizando el esqueleto siguiente\n",
    "\n",
    "n = 20\n",
    "\n",
    "fib = [0, 1]  # Los dos primeros valores de la sucesión.\n",
    "\n",
    "# Escribe aquí el código\n",
    "while len(fib)<=20:\n",
    "    fib.append(fib[-1] + fib[-2])\n",
    "    print(fib)\n",
    "    \n",
    "print(fib)\n",
    "\n",
    "\n",
    "\n"
   ]
  },
  {
   "cell_type": "code",
   "execution_count": 10,
   "metadata": {},
   "outputs": [
    {
     "name": "stdout",
     "output_type": "stream",
     "text": [
      "I will cheer for you! Enter a word: hola\n",
      "Enthusiasm level (1-10): 2\n",
      "Give me an h! h\n",
      "Give me an o! o\n",
      "Give me an l! l\n",
      "Give me an a! a\n",
      "What does that spell?\n",
      "hola !!!\n",
      "hola !!!\n"
     ]
    }
   ],
   "source": [
    "# El siguiente código hace uso de un bucle while, cuando\n",
    "# no es necesario. Escribir el código utilizando un bucle for\n",
    "\n",
    "an_letters = \"aefhilmnorsxAEFHILMNORSX\"\n",
    "word = input(\"I will cheer for you! Enter a word: \")  # Input nos pide que introduzcamos un valor por consola\n",
    "times = int(input(\"Enthusiasm level (1-10): \"))  # El valor es siempre un string, pero necesitamos un entero,\n",
    "                                                 # \"int()\" lo convierte a entero\n",
    "\n",
    "#i = 0\n",
    "#while i < len(word):\n",
    "#    char = word[i]\n",
    "#    if char in an_letters:\n",
    "#        print(\"Give me an \" + char + \"! \" + char)\n",
    "#    else:\n",
    "#        print(\"Give me a  \" + char + \"! \" + char)\n",
    "#    i += 1\n",
    "#print(\"What does that spell?\")\n",
    "#for i in range(times):\n",
    "#    print(word, \"!!!\")\n",
    "    \n",
    "    \n",
    "for j in range(0,len(word)):\n",
    "    char = word[j]\n",
    "    if char in an_letters:\n",
    "        print(\"Give me an \" + char + \"! \" + char)\n",
    "    else:\n",
    "        print(\"Give me a  \" + char + \"! \" + char)\n",
    "        \n",
    "print(\"What does that spell?\")\n",
    "for i in range(times):\n",
    "    print(word, \"!!!\")\n",
    "    \n",
    "    "
   ]
  },
  {
   "cell_type": "code",
   "execution_count": 25,
   "metadata": {},
   "outputs": [
    {
     "name": "stdout",
     "output_type": "stream",
     "text": [
      "l: [1, 2, 3, 4, 5]\n",
      "m: [5, 4, 3, 2, 1]\n"
     ]
    }
   ],
   "source": [
    "# El siguiente código debería crear una lista \"m\"\n",
    "# que contiene los elemenos de \"l\" en orden inverso,\n",
    "# pero contiene errores.\n",
    "\n",
    "#l = [1, 2, 3, 4, 5]\n",
    "\n",
    "#m = l\n",
    "#for i in range(len(m)):\n",
    "#    j = len(m) - i\n",
    "#    m[i] = temp\n",
    "#    m[i] = m[j]\n",
    "#    m[j] = m[i]\n",
    "    \n",
    "#print(\"l:\", l)\n",
    "#print(\"m:\", m)\n",
    "\n",
    "\n",
    "\n",
    "l = [1, 2, 3, 4, 5]\n",
    "\n",
    "m = l.copy()\n",
    "for i in range(len(m) // 2): #lo hago hasta la mitad!!\n",
    "    j = len(m) - i - 1\n",
    "    temp = m[i] \n",
    "    m[i] = m[j]\n",
    "    m[j] = temp\n",
    "    \n",
    "print(\"l:\", l)\n",
    "print(\"m:\", m)"
   ]
  },
  {
   "cell_type": "code",
   "execution_count": 30,
   "metadata": {},
   "outputs": [
    {
     "name": "stdout",
     "output_type": "stream",
     "text": [
      "[]\n"
     ]
    },
    {
     "ename": "NameError",
     "evalue": "name 'primes' is not defined",
     "output_type": "error",
     "traceback": [
      "\u001b[0;31m---------------------------------------------------------------------------\u001b[0m",
      "\u001b[0;31mNameError\u001b[0m                                 Traceback (most recent call last)",
      "\u001b[0;32m<ipython-input-30-3d08464405f2>\u001b[0m in \u001b[0;36m<module>\u001b[0;34m()\u001b[0m\n\u001b[1;32m     14\u001b[0m \u001b[0;34m\u001b[0m\u001b[0m\n\u001b[1;32m     15\u001b[0m \u001b[0;31m# Itero sobre los numeros\u001b[0m\u001b[0;34m\u001b[0m\u001b[0;34m\u001b[0m\u001b[0m\n\u001b[0;32m---> 16\u001b[0;31m \u001b[0;32mfor\u001b[0m \u001b[0mi\u001b[0m \u001b[0;32min\u001b[0m \u001b[0mrange\u001b[0m\u001b[0;34m(\u001b[0m\u001b[0mlen\u001b[0m\u001b[0;34m(\u001b[0m\u001b[0mprimes\u001b[0m\u001b[0;34m)\u001b[0m\u001b[0;34m)\u001b[0m\u001b[0;34m:\u001b[0m\u001b[0;34m\u001b[0m\u001b[0m\n\u001b[0m\u001b[1;32m     17\u001b[0m     \u001b[0;31m# go through each of 2...n\u001b[0m\u001b[0;34m\u001b[0m\u001b[0;34m\u001b[0m\u001b[0m\n\u001b[1;32m     18\u001b[0m     \u001b[0;32mfor\u001b[0m \u001b[0mj\u001b[0m \u001b[0;32min\u001b[0m \u001b[0mrange\u001b[0m\u001b[0;34m(\u001b[0m\u001b[0mlen\u001b[0m\u001b[0;34m(\u001b[0m\u001b[0mn\u001b[0m\u001b[0;34m)\u001b[0m\u001b[0;34m)\u001b[0m\u001b[0;34m:\u001b[0m\u001b[0;34m\u001b[0m\u001b[0m\n",
      "\u001b[0;31mNameError\u001b[0m: name 'primes' is not defined"
     ]
    }
   ],
   "source": [
    "# El siguiente código debería obtener los números primos que\n",
    "# existan hasta \"n\", incluyendo \"n\", pero contiene errores.\n",
    "\n",
    "n = 30\n",
    "\n",
    "primos = []\n",
    "\n",
    "# Inicializo la lista de numeros primos\n",
    "#if i == 2:\n",
    "#    primos.append(2)\n",
    "\n",
    "print(primos)\n",
    "\n",
    "    \n",
    "# Itero sobre los numeros\n",
    "for i in range(len(primes)):\n",
    "    # go through each of 2...n\n",
    "    for j in range(len(n)):\n",
    "        # check if not divisible by elem of list\n",
    "        if i % j != 0:\n",
    "            primos.append(i)\n",
    "            \n"
   ]
  },
  {
   "cell_type": "code",
   "execution_count": 35,
   "metadata": {},
   "outputs": [
    {
     "name": "stdout",
     "output_type": "stream",
     "text": [
      "[2, 3, 5, 7, 11, 13, 17, 19, 23, 29]\n"
     ]
    }
   ],
   "source": [
    "\n",
    "n = 30\n",
    "\n",
    "primos = [2]\n",
    "\n",
    "# Inicializo la lista de numeros primos\n",
    "#if i == 2:\n",
    "#    primos.append(2)\n",
    "\n",
    "\n",
    "\n",
    "    \n",
    "# Itero sobre los numeros\n",
    "for i in range(2,n+1):\n",
    "    # go through each of 2...n\n",
    "    for j in primos:\n",
    "        # check if not divisible by elem of list\n",
    "        if i % j == 0:\n",
    "            break\n",
    "    else:\n",
    "          primos.append(i)\n",
    "\n",
    "print(primos)"
   ]
  },
  {
   "cell_type": "code",
   "execution_count": null,
   "metadata": {},
   "outputs": [],
   "source": []
  }
 ],
 "metadata": {
  "kernelspec": {
   "display_name": "Python 3",
   "language": "python",
   "name": "python3"
  },
  "language_info": {
   "codemirror_mode": {
    "name": "ipython",
    "version": 3
   },
   "file_extension": ".py",
   "mimetype": "text/x-python",
   "name": "python",
   "nbconvert_exporter": "python",
   "pygments_lexer": "ipython3",
   "version": "3.6.5"
  }
 },
 "nbformat": 4,
 "nbformat_minor": 2
}

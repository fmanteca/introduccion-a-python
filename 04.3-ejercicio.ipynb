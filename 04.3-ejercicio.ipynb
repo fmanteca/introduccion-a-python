{
 "cells": [
  {
   "cell_type": "markdown",
   "metadata": {},
   "source": [
    "Convertir el ejemplo anterior a un paquete, con el siguiente formato (o similar).\n",
    "\n",
    "```\n",
    "lyrics_processor/__init__.py\n",
    "                 process.py\n",
    "                 frequencies.py\n",
    "                 songs/__init__.py\n",
    "                 songs/example.py\n",
    "```"
   ]
  },
  {
   "cell_type": "code",
   "execution_count": 3,
   "metadata": {},
   "outputs": [
    {
     "name": "stdout",
     "output_type": "stream",
     "text": [
      "Palabras más frecuentes con más de 10 apariciones.\n",
      "['ay', 'fonsi', 'dy', 'oh', 'oh', 'no', 'oh', 'no', 'oh', 'yeah', 'diridiri', 'dirididi', 'daddy', 'go', 'sí', 'sabes', 'que', 'ya', 'llevo', 'un', 'rato', 'mirándote', 'tengo', 'que', 'bailar', 'contigo', 'hoy', 'dy', 'vi', 'que', 'tu', 'mirada', 'ya', 'estaba', 'llamándome', 'muéstrame', 'el', 'camino', 'que', 'yo', 'voy', 'oh', 'tú', 'tú', 'eres', 'el', 'imán', 'y', 'yo', 'soy', 'el', 'metal', 'me', 'voy', 'acercando', 'y', 'voy', 'armando', 'el', 'plan', 'solo', 'con', 'pensarlo', 'se', 'acelera', 'el', 'pulso', 'oh', 'yeah', 'ya', 'ya', 'me', 'está', 'gustando', 'más', 'de', 'lo', 'normal', 'todos', 'mis', 'sentidos', 'van', 'pidiendo', 'más', 'esto', 'hay', 'que', 'tomarlo', 'sin', 'ningún', 'apuro', 'despacito', 'quiero', 'respirar', 'tu', 'cuello', 'despacito', 'deja', 'que', 'te', 'diga', 'cosas', 'al', 'oído', 'para', 'que', 'te', 'acuerdes', 'si', 'no', 'estás', 'conmigo', 'despacito', 'quiero', 'desnudarte', 'a', 'besos', 'despacito', 'firmo', 'en', 'las', 'paredes', 'de', 'tu', 'laberinto', 'y', 'hacer', 'de', 'tu', 'cuerpo', 'todo', 'un', 'manuscrito', 'sube', 'sube', 'sube', 'sube', 'sube', 'quiero', 'ver', 'bailar', 'tu', 'pelo', 'quiero', 'ser', 'tu', 'ritmo', 'que', 'le', 'enseñes', 'a', 'mi', 'boca', 'tus', 'lugares', 'favoritos', 'favoritos', 'favoritos', 'baby', 'déjame', 'sobrepasar', 'tus', 'zonas', 'de', 'peligro', 'hasta', 'provocar', 'tus', 'gritos', 'y', 'que', 'olvides', 'tu', 'apellido', 'diridiri', 'dirididi', 'daddy', 'si', 'te', 'pido', 'un', 'beso', 'ven', 'dámelo', 'yo', 'sé', 'que', 'estás', 'pensándolo', 'llevo', 'tiempo', 'intentándolo', 'mami', 'esto', 'es', 'dando', 'y', 'dándolo', 'sabes', 'que', 'tu', 'corazón', 'conmigo', 'te', 'hace', 'bom', 'bom', 'sabes', 'que', 'esa', 'beba', 'está', 'buscando', 'de', 'mi', 'bom', 'bom', 'ven', 'prueba', 'de', 'mi', 'boca', 'para', 'ver', 'cómo', 'te', 'sabe', 'quiero', 'quiero', 'quiero', 'ver', 'cuánto', 'amor', 'a', 'ti', 'te', 'cabe', 'yo', 'no', 'tengo', 'prisa', 'yo', 'me', 'quiero', 'dar', 'el', 'viaje', 'empecemos', 'lento', 'después', 'salvaje', 'pasito', 'a', 'pasito', 'suave', 'suavecito', 'nos', 'vamos', 'pegando', 'poquito', 'a', 'poquito', 'cuando', 'tú', 'me', 'besas', 'con', 'esa', 'destreza', 'veo', 'que', 'eres', 'malicia', 'con', 'delicadeza', 'pasito', 'a', 'pasito', 'suave', 'suavecito', 'nos', 'vamos', 'pegando', 'poquito', 'a', 'poquito', 'y', 'es', 'que', 'esa', 'belleza', 'es', 'un', 'rompecabezas', 'pero', 'pa', 'montarlo', 'aquí', 'tengo', 'la', 'pieza', 'despacito', 'quiero', 'respirar', 'tu', 'cuello', 'despacito', 'deja', 'que', 'te', 'diga', 'cosas', 'al', 'oído', 'para', 'que', 'te', 'acuerdes', 'si', 'no', 'estás', 'conmigo', 'despacito', 'quiero', 'desnudarte', 'a', 'besos', 'despacito', 'firmo', 'en', 'las', 'paredes', 'de', 'tu', 'laberinto', 'y', 'hacer', 'de', 'tu', 'cuerpo', 'todo', 'un', 'manuscrito', 'sube', 'sube', 'sube', 'sube', 'sube', 'quiero', 'ver', 'bailar', 'tu', 'pelo', 'quiero', 'ser', 'tu', 'ritmo', 'que', 'le', 'enseñes', 'a', 'mi', 'boca', 'tus', 'lugares', 'favoritos', 'favoritos', 'favoritos', 'baby', 'déjame', 'sobrepasar', 'tus', 'zonas', 'de', 'peligro', 'hasta', 'provocar', 'tus', 'gritos', 'y', 'que', 'olvides', 'tu', 'apellido', 'despacito', 'vamos', 'a', 'hacerlo', 'en', 'una', 'playa', 'en', 'puerto', 'rico', 'hasta', 'que', 'las', 'olas', 'griten', 'ay', 'bendito', 'para', 'que', 'mi', 'sello', 'se', 'quede', 'contigo', 'pasito', 'a', 'pasito', 'suave', 'suavecito', 'nos', 'vamos', 'pegando', 'poquito', 'a', 'poquito', 'que', 'le', 'enseñes', 'a', 'mi', 'boca', 'tus', 'lugares', 'favoritos', 'favoritos', 'favoritos', 'baby', 'pasito', 'a', 'pasito', 'suave', 'suavecito', 'nos', 'vamos', 'pegando', 'poquito', 'a', 'poquito', 'hasta', 'provocar', 'tus', 'gritos', 'y', 'que', 'olvides', 'tu', 'apellido', 'dy', 'despacito', (22, ['que']), (15, ['tu', 'a']), (12, ['quiero']), (10, ['despacito', 'sube'])]\n",
      "\n",
      "\n",
      "Palabras más frecuentes con más de 10 apariciones.\n",
      "['ay', 'fonsi', 'dy', 'oh', 'oh', 'no', 'oh', 'no', 'oh', 'yeah', 'diridiri', 'dirididi', 'daddy', 'go', 'sí', 'sabes', 'que', 'ya', 'llevo', 'un', 'rato', 'mirándote', 'tengo', 'que', 'bailar', 'contigo', 'hoy', 'dy', 'vi', 'que', 'tu', 'mirada', 'ya', 'estaba', 'llamándome', 'muéstrame', 'el', 'camino', 'que', 'yo', 'voy', 'oh', 'tú', 'tú', 'eres', 'el', 'imán', 'y', 'yo', 'soy', 'el', 'metal', 'me', 'voy', 'acercando', 'y', 'voy', 'armando', 'el', 'plan', 'solo', 'con', 'pensarlo', 'se', 'acelera', 'el', 'pulso', 'oh', 'yeah', 'ya', 'ya', 'me', 'está', 'gustando', 'más', 'de', 'lo', 'normal', 'todos', 'mis', 'sentidos', 'van', 'pidiendo', 'más', 'esto', 'hay', 'que', 'tomarlo', 'sin', 'ningún', 'apuro', 'despacito', 'quiero', 'respirar', 'tu', 'cuello', 'despacito', 'deja', 'que', 'te', 'diga', 'cosas', 'al', 'oído', 'para', 'que', 'te', 'acuerdes', 'si', 'no', 'estás', 'conmigo', 'despacito', 'quiero', 'desnudarte', 'a', 'besos', 'despacito', 'firmo', 'en', 'las', 'paredes', 'de', 'tu', 'laberinto', 'y', 'hacer', 'de', 'tu', 'cuerpo', 'todo', 'un', 'manuscrito', 'sube', 'sube', 'sube', 'sube', 'sube', 'quiero', 'ver', 'bailar', 'tu', 'pelo', 'quiero', 'ser', 'tu', 'ritmo', 'que', 'le', 'enseñes', 'a', 'mi', 'boca', 'tus', 'lugares', 'favoritos', 'favoritos', 'favoritos', 'baby', 'déjame', 'sobrepasar', 'tus', 'zonas', 'de', 'peligro', 'hasta', 'provocar', 'tus', 'gritos', 'y', 'que', 'olvides', 'tu', 'apellido', 'diridiri', 'dirididi', 'daddy', 'si', 'te', 'pido', 'un', 'beso', 'ven', 'dámelo', 'yo', 'sé', 'que', 'estás', 'pensándolo', 'llevo', 'tiempo', 'intentándolo', 'mami', 'esto', 'es', 'dando', 'y', 'dándolo', 'sabes', 'que', 'tu', 'corazón', 'conmigo', 'te', 'hace', 'bom', 'bom', 'sabes', 'que', 'esa', 'beba', 'está', 'buscando', 'de', 'mi', 'bom', 'bom', 'ven', 'prueba', 'de', 'mi', 'boca', 'para', 'ver', 'cómo', 'te', 'sabe', 'quiero', 'quiero', 'quiero', 'ver', 'cuánto', 'amor', 'a', 'ti', 'te', 'cabe', 'yo', 'no', 'tengo', 'prisa', 'yo', 'me', 'quiero', 'dar', 'el', 'viaje', 'empecemos', 'lento', 'después', 'salvaje', 'pasito', 'a', 'pasito', 'suave', 'suavecito', 'nos', 'vamos', 'pegando', 'poquito', 'a', 'poquito', 'cuando', 'tú', 'me', 'besas', 'con', 'esa', 'destreza', 'veo', 'que', 'eres', 'malicia', 'con', 'delicadeza', 'pasito', 'a', 'pasito', 'suave', 'suavecito', 'nos', 'vamos', 'pegando', 'poquito', 'a', 'poquito', 'y', 'es', 'que', 'esa', 'belleza', 'es', 'un', 'rompecabezas', 'pero', 'pa', 'montarlo', 'aquí', 'tengo', 'la', 'pieza', 'despacito', 'quiero', 'respirar', 'tu', 'cuello', 'despacito', 'deja', 'que', 'te', 'diga', 'cosas', 'al', 'oído', 'para', 'que', 'te', 'acuerdes', 'si', 'no', 'estás', 'conmigo', 'despacito', 'quiero', 'desnudarte', 'a', 'besos', 'despacito', 'firmo', 'en', 'las', 'paredes', 'de', 'tu', 'laberinto', 'y', 'hacer', 'de', 'tu', 'cuerpo', 'todo', 'un', 'manuscrito', 'sube', 'sube', 'sube', 'sube', 'sube', 'quiero', 'ver', 'bailar', 'tu', 'pelo', 'quiero', 'ser', 'tu', 'ritmo', 'que', 'le', 'enseñes', 'a', 'mi', 'boca', 'tus', 'lugares', 'favoritos', 'favoritos', 'favoritos', 'baby', 'déjame', 'sobrepasar', 'tus', 'zonas', 'de', 'peligro', 'hasta', 'provocar', 'tus', 'gritos', 'y', 'que', 'olvides', 'tu', 'apellido', 'despacito', 'vamos', 'a', 'hacerlo', 'en', 'una', 'playa', 'en', 'puerto', 'rico', 'hasta', 'que', 'las', 'olas', 'griten', 'ay', 'bendito', 'para', 'que', 'mi', 'sello', 'se', 'quede', 'contigo', 'pasito', 'a', 'pasito', 'suave', 'suavecito', 'nos', 'vamos', 'pegando', 'poquito', 'a', 'poquito', 'que', 'le', 'enseñes', 'a', 'mi', 'boca', 'tus', 'lugares', 'favoritos', 'favoritos', 'favoritos', 'baby', 'pasito', 'a', 'pasito', 'suave', 'suavecito', 'nos', 'vamos', 'pegando', 'poquito', 'a', 'poquito', 'hasta', 'provocar', 'tus', 'gritos', 'y', 'que', 'olvides', 'tu', 'apellido', 'dy', 'despacito', (22, ['que']), (15, ['tu', 'a']), (12, ['quiero']), (10, ['despacito', 'sube']), (22, ['que']), (15, ['tu', 'a']), (12, ['quiero']), (10, ['despacito', 'sube']), (9, ['y', 'de', 'favoritos']), (8, ['te', 'tus', 'pasito', 'poquito']), (6, ['oh', 'el', 'mi']), (5, ['no', 'un', 'yo', 'vamos'])]\n"
     ]
    }
   ],
   "source": [
    "import lyrics_processor.lyrics\n",
    "import lyrics_processor.songs\n",
    "\n",
    "\n",
    "words_clean = lyrics_processor.lyrics.split_into_words(lyrics_processor.songs.cancion)\n",
    "\n",
    "freqs = lyrics_processor.lyrics.words_to_frequencies(words_clean)\n",
    "\n",
    "print(\"Palabras más frecuentes con más de 10 apariciones.\")\n",
    "print(lyrics_processor.lyrics.get_more_often_user_words(words_clean,freqs))\n",
    "print(\"\\n\")\n",
    "print(\"Palabras más frecuentes con más de 10 apariciones.\")\n",
    "print(lyrics_processor.lyrics.get_more_often_user_words(words_clean,freqs, threshold=5))"
   ]
  },
  {
   "cell_type": "code",
   "execution_count": null,
   "metadata": {},
   "outputs": [],
   "source": []
  }
 ],
 "metadata": {
  "kernelspec": {
   "display_name": "Python 3",
   "language": "python",
   "name": "python3"
  },
  "language_info": {
   "codemirror_mode": {
    "name": "ipython",
    "version": 3
   },
   "file_extension": ".py",
   "mimetype": "text/x-python",
   "name": "python",
   "nbconvert_exporter": "python",
   "pygments_lexer": "ipython3",
   "version": "3.6.5"
  }
 },
 "nbformat": 4,
 "nbformat_minor": 2
}
